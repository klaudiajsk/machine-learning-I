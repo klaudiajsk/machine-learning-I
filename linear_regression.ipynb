{
  "nbformat": 4,
  "nbformat_minor": 0,
  "metadata": {
    "colab": {
      "name": "linear_regression.ipynb",
      "provenance": [],
      "authorship_tag": "ABX9TyNq+YIW1B+VWG58HhcHvj4M",
      "include_colab_link": true
    },
    "kernelspec": {
      "name": "python3",
      "display_name": "Python 3"
    }
  },
  "cells": [
    {
      "cell_type": "markdown",
      "metadata": {
        "id": "view-in-github",
        "colab_type": "text"
      },
      "source": [
        "<a href=\"https://colab.research.google.com/github/klaudiajsk/machine-learning-I/blob/main/linear_regression.ipynb\" target=\"_parent\"><img src=\"https://colab.research.google.com/assets/colab-badge.svg\" alt=\"Open In Colab\"/></a>"
      ]
    },
    {
      "cell_type": "code",
      "metadata": {
        "id": "W7-WgI6_79sm"
      },
      "source": [
        "import numpy as np\r\n",
        "import pandas as pd\r\n",
        "import sklearn"
      ],
      "execution_count": null,
      "outputs": []
    },
    {
      "cell_type": "code",
      "metadata": {
        "id": "UUCQcFxr4mK7"
      },
      "source": [
        "!pip install kaggle"
      ],
      "execution_count": null,
      "outputs": []
    },
    {
      "cell_type": "code",
      "metadata": {
        "id": "CyQQFkUwGt66"
      },
      "source": [
        "from google.colab import files\r\n",
        "files.upload()"
      ],
      "execution_count": null,
      "outputs": []
    },
    {
      "cell_type": "code",
      "metadata": {
        "id": "H2d0cINFK0_2"
      },
      "source": [
        "!mkdir -p ~/.kaggle\r\n",
        "!cp kaggle.json ~/.kaggle\r\n",
        "\r\n",
        "#permission\r\n",
        "!chmod 600 ~/.kaggle/kaggle.json"
      ],
      "execution_count": null,
      "outputs": []
    },
    {
      "cell_type": "code",
      "metadata": {
        "id": "akdwEAbpL_QX"
      },
      "source": [
        "!kaggle datasets download -d mirichoi0218/insurance"
      ],
      "execution_count": null,
      "outputs": []
    },
    {
      "cell_type": "code",
      "metadata": {
        "id": "WezgUNjXcBRx"
      },
      "source": [
        "from zipfile import ZipFile\r\n",
        "file_name = 'insurance.zip'\r\n",
        "\r\n",
        "with ZipFile (file_name, 'r') as zip:\r\n",
        "  zip.extractall()\r\n",
        "  print('Done')\r\n"
      ],
      "execution_count": null,
      "outputs": []
    },
    {
      "cell_type": "code",
      "metadata": {
        "id": "ib0S4PMQfiS_"
      },
      "source": [
        "dataset = pd.read_csv('insurance.csv')\r\n",
        "dataset.head()"
      ],
      "execution_count": null,
      "outputs": []
    },
    {
      "cell_type": "code",
      "metadata": {
        "id": "QOCh-hOBq2fc"
      },
      "source": [
        "dataset.info()"
      ],
      "execution_count": null,
      "outputs": []
    },
    {
      "cell_type": "code",
      "metadata": {
        "id": "oKTMramozd4g"
      },
      "source": [
        "dataset.isnull().sum()"
      ],
      "execution_count": null,
      "outputs": []
    },
    {
      "cell_type": "code",
      "metadata": {
        "id": "To-58o1A1-tl"
      },
      "source": [
        "dataset.duplicated().sum()"
      ],
      "execution_count": null,
      "outputs": []
    },
    {
      "cell_type": "code",
      "metadata": {
        "id": "YRBoFEyg2S8E"
      },
      "source": [
        "dataset = dataset.drop_duplicates()\r\n",
        "dataset.info()"
      ],
      "execution_count": null,
      "outputs": []
    },
    {
      "cell_type": "code",
      "metadata": {
        "id": "g_nWk4wc3bdK"
      },
      "source": [
        "dataset_columns = [column for column in dataset.columns if dataset[column].dtype == 'O']"
      ],
      "execution_count": null,
      "outputs": []
    },
    {
      "cell_type": "code",
      "metadata": {
        "id": "yMOr_VgJ20F8"
      },
      "source": [
        "for column in dataset_columns:\r\n",
        "  dataset[column] = dataset[column].astype('category')\r\n",
        "dataset.info()"
      ],
      "execution_count": null,
      "outputs": []
    },
    {
      "cell_type": "code",
      "metadata": {
        "id": "9tVP9E4h4h0V"
      },
      "source": [
        "df_dummies = pd.get_dummies(dataset, drop_first=True)\r\n",
        "df_dummies"
      ],
      "execution_count": null,
      "outputs": []
    },
    {
      "cell_type": "code",
      "metadata": {
        "id": "5gVo9ukS5LHU"
      },
      "source": [
        "df_dummies.corr()['charges'].sort_values(ascending=False)"
      ],
      "execution_count": null,
      "outputs": []
    },
    {
      "cell_type": "code",
      "metadata": {
        "id": "DdAMKyO_5ma_"
      },
      "source": [
        "data = df_dummies.copy()\r\n",
        "target = data.pop('charges')\r\n",
        "data.head()"
      ],
      "execution_count": null,
      "outputs": []
    },
    {
      "cell_type": "code",
      "metadata": {
        "id": "YVQODxuW5tFQ"
      },
      "source": [
        "from sklearn.model_selection import train_test_split\r\n",
        "\r\n",
        "X_train, X_test, y_train, y_test = train_test_split(data, target)"
      ],
      "execution_count": null,
      "outputs": []
    },
    {
      "cell_type": "code",
      "metadata": {
        "id": "NoA4l52r59oG"
      },
      "source": [
        "print(f'X_train shape: {X_train.shape}')\r\n",
        "print(f'X_test shape: {X_test.shape}')\r\n",
        "print(f'y_train shape: {y_train.shape}')\r\n",
        "print(f'y_test shape: {y_test.shape}')"
      ],
      "execution_count": null,
      "outputs": []
    },
    {
      "cell_type": "code",
      "metadata": {
        "id": "HfRxNfCP7MAz"
      },
      "source": [
        "from sklearn.linear_model import LinearRegression\r\n",
        "regression = LinearRegression()\r\n",
        "regression.fit(X_train, y_train)\r\n",
        "print(f'R2 score: {regression.score(X_test, y_test):.2f}')"
      ],
      "execution_count": null,
      "outputs": []
    }
  ]
}