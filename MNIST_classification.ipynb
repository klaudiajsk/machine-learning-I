{
  "nbformat": 4,
  "nbformat_minor": 0,
  "metadata": {
    "colab": {
      "name": "MNIST_classification.ipynb",
      "provenance": [],
      "authorship_tag": "ABX9TyNIelE7TH2xa0w4d6Z+aLpB",
      "include_colab_link": true
    },
    "kernelspec": {
      "name": "python3",
      "display_name": "Python 3"
    }
  },
  "cells": [
    {
      "cell_type": "markdown",
      "metadata": {
        "id": "view-in-github",
        "colab_type": "text"
      },
      "source": [
        "<a href=\"https://colab.research.google.com/github/klaudiajsk/machine-learning-algorithms/blob/main/MNIST_classification.ipynb\" target=\"_parent\"><img src=\"https://colab.research.google.com/assets/colab-badge.svg\" alt=\"Open In Colab\"/></a>"
      ]
    },
    {
      "cell_type": "markdown",
      "metadata": {
        "id": "_QPMpnSm152q"
      },
      "source": [
        "Install:\r\n",
        "\r\n",
        "> necessary libraries\r\n",
        "\r\n",
        "> MNIST dataset\r\n",
        "\r\n",
        "> Sequential model\r\n",
        "\r\n",
        "> Dense and Dropout layers\r\n",
        "\r\n",
        "> to_categorical function\r\n",
        "\r\n",
        "\r\n",
        "\r\n",
        "\r\n",
        "\r\n",
        "\r\n",
        "\r\n",
        "\r\n"
      ]
    },
    {
      "cell_type": "code",
      "metadata": {
        "id": "oKWdqV2bpa_7"
      },
      "source": [
        "import numpy as np\r\n",
        "import keras\r\n",
        "import matplotlib.pyplot as plt\r\n",
        "from keras.datasets import mnist\r\n",
        "from keras.models import Sequential\r\n",
        "from keras.layers import Dense, Dropout\r\n",
        "from keras.utils import to_categorical"
      ],
      "execution_count": 85,
      "outputs": []
    },
    {
      "cell_type": "markdown",
      "metadata": {
        "id": "YoABOkrD14fe"
      },
      "source": [
        "Split MNIST to train and test sets"
      ]
    },
    {
      "cell_type": "code",
      "metadata": {
        "id": "iKx1HSZgpik2"
      },
      "source": [
        "(x_train, y_train), (x_test, y_test) = mnist.load_data()"
      ],
      "execution_count": 86,
      "outputs": []
    },
    {
      "cell_type": "code",
      "metadata": {
        "colab": {
          "base_uri": "https://localhost:8080/"
        },
        "id": "sokYN4Appn8U",
        "outputId": "9dbc00bf-468a-4e51-bd56-84f3740360b7"
      },
      "source": [
        "x_train.shape"
      ],
      "execution_count": 87,
      "outputs": [
        {
          "output_type": "execute_result",
          "data": {
            "text/plain": [
              "(60000, 28, 28)"
            ]
          },
          "metadata": {
            "tags": []
          },
          "execution_count": 87
        }
      ]
    },
    {
      "cell_type": "code",
      "metadata": {
        "colab": {
          "base_uri": "https://localhost:8080/"
        },
        "id": "m6w0PNd_p7FO",
        "outputId": "b9280da4-e28a-4bd8-9f73-40c5a59ba1e4"
      },
      "source": [
        "x_test.shape\r\n"
      ],
      "execution_count": 88,
      "outputs": [
        {
          "output_type": "execute_result",
          "data": {
            "text/plain": [
              "(10000, 28, 28)"
            ]
          },
          "metadata": {
            "tags": []
          },
          "execution_count": 88
        }
      ]
    },
    {
      "cell_type": "code",
      "metadata": {
        "colab": {
          "base_uri": "https://localhost:8080/"
        },
        "id": "Vapf6nwLp_u4",
        "outputId": "01e83c9c-4d54-49bc-b3e2-31b647dcafc2"
      },
      "source": [
        "y_train.shape\r\n"
      ],
      "execution_count": 89,
      "outputs": [
        {
          "output_type": "execute_result",
          "data": {
            "text/plain": [
              "(60000,)"
            ]
          },
          "metadata": {
            "tags": []
          },
          "execution_count": 89
        }
      ]
    },
    {
      "cell_type": "code",
      "metadata": {
        "colab": {
          "base_uri": "https://localhost:8080/"
        },
        "id": "OgGfww2sqA1I",
        "outputId": "a551d041-0c95-41b3-bf25-c818e6982db7"
      },
      "source": [
        "y_test.shape"
      ],
      "execution_count": 90,
      "outputs": [
        {
          "output_type": "execute_result",
          "data": {
            "text/plain": [
              "(10000,)"
            ]
          },
          "metadata": {
            "tags": []
          },
          "execution_count": 90
        }
      ]
    },
    {
      "cell_type": "markdown",
      "metadata": {
        "id": "aSam2xZK3zVt"
      },
      "source": [
        "Visualization of the one of the set's elements"
      ]
    },
    {
      "cell_type": "code",
      "metadata": {
        "colab": {
          "base_uri": "https://localhost:8080/",
          "height": 282
        },
        "id": "h8rf5BbTqNmk",
        "outputId": "4a83f108-7d88-4f6a-e5e8-d1faf9e5ae61"
      },
      "source": [
        "%matplotlib inline\r\n",
        "print(y_train[111])\r\n",
        "plt.imshow(x_train[111])\r\n",
        "plt.show()"
      ],
      "execution_count": 91,
      "outputs": [
        {
          "output_type": "stream",
          "text": [
            "3\n"
          ],
          "name": "stdout"
        },
        {
          "output_type": "display_data",
          "data": {
            "image/png": "[encoded data removed]",
            "text/plain": [
              "<Figure size 432x288 with 1 Axes>"
            ]
          },
          "metadata": {
            "tags": [],
            "needs_background": "light"
          }
        }
      ]
    },
    {
      "cell_type": "markdown",
      "metadata": {
        "id": "lqGtOvIO5KF1"
      },
      "source": [
        "Vectorization and normalization"
      ]
    },
    {
      "cell_type": "code",
      "metadata": {
        "id": "tFkBMmWDq-2t"
      },
      "source": [
        "x_train = x_train.reshape((-1, 28*28))\r\n",
        "x_test = x_test.reshape((-1, 784))"
      ],
      "execution_count": 92,
      "outputs": []
    },
    {
      "cell_type": "code",
      "metadata": {
        "id": "be9jLTuDrBK6"
      },
      "source": [
        "x_train = x_train / 255\r\n",
        "x_test = x_test / 255"
      ],
      "execution_count": 93,
      "outputs": []
    },
    {
      "cell_type": "code",
      "metadata": {
        "colab": {
          "base_uri": "https://localhost:8080/"
        },
        "id": "kq-nZ3IOr31j",
        "outputId": "13c45e3d-1c96-4695-fa25-08cc5ad87b22"
      },
      "source": [
        "print(\"Min:\", x_train.min())\r\n",
        "print(\"Max: \", x_train.max())"
      ],
      "execution_count": 94,
      "outputs": [
        {
          "output_type": "stream",
          "text": [
            "Min: 0.0\n",
            "Max:  1.0\n"
          ],
          "name": "stdout"
        }
      ]
    },
    {
      "cell_type": "markdown",
      "metadata": {
        "id": "pR1Ew_ub6MnM"
      },
      "source": [
        "Build a model"
      ]
    },
    {
      "cell_type": "code",
      "metadata": {
        "id": "RkJMl4MEr5Qg"
      },
      "source": [
        "model = Sequential([\r\n",
        "   Dense(512, activation='relu', input_shape=(784,)),\r\n",
        "   Dense(128, activation='tanh'),\r\n",
        "   Dropout(rate=0.05),\r\n",
        "   Dense(64, activation='relu'),\r\n",
        "   Dense(10, activation='softmax')\r\n",
        "])"
      ],
      "execution_count": 95,
      "outputs": []
    },
    {
      "cell_type": "markdown",
      "metadata": {
        "id": "9RR7GyXu6P_x"
      },
      "source": [
        "Compile"
      ]
    },
    {
      "cell_type": "code",
      "metadata": {
        "id": "QOK4q35Jsdjx"
      },
      "source": [
        "model.compile(\r\n",
        "   optimizer='rmsprop',\r\n",
        "   loss='categorical_crossentropy',\r\n",
        "   metrics=['accuracy']\r\n",
        ")"
      ],
      "execution_count": 96,
      "outputs": []
    },
    {
      "cell_type": "markdown",
      "metadata": {
        "id": "PhTXlXVv6uld"
      },
      "source": [
        "Trainig and evaluation"
      ]
    },
    {
      "cell_type": "code",
      "metadata": {
        "colab": {
          "base_uri": "https://localhost:8080/"
        },
        "id": "3axBKjKhsl1q",
        "outputId": "4248a199-89d4-45ae-9e5b-00234077ac93"
      },
      "source": [
        "model.fit(\r\n",
        "   x=x_train,\r\n",
        "   y=to_categorical(y_train),\r\n",
        "   epochs=10,\r\n",
        "   batch_size=64,\r\n",
        "   shuffle=True\r\n",
        ")"
      ],
      "execution_count": 97,
      "outputs": [
        {
          "output_type": "stream",
          "text": [
            "Epoch 1/10\n",
            "938/938 [==============================] - 7s 7ms/step - loss: 0.3612 - accuracy: 0.8883\n",
            "Epoch 2/10\n",
            "938/938 [==============================] - 6s 7ms/step - loss: 0.0864 - accuracy: 0.9743\n",
            "Epoch 3/10\n",
            "938/938 [==============================] - 7s 7ms/step - loss: 0.0575 - accuracy: 0.9821\n",
            "Epoch 4/10\n",
            "938/938 [==============================] - 6s 7ms/step - loss: 0.0417 - accuracy: 0.9877\n",
            "Epoch 5/10\n",
            "938/938 [==============================] - 7s 7ms/step - loss: 0.0334 - accuracy: 0.9895\n",
            "Epoch 6/10\n",
            "938/938 [==============================] - 6s 7ms/step - loss: 0.0255 - accuracy: 0.9924\n",
            "Epoch 7/10\n",
            "938/938 [==============================] - 6s 7ms/step - loss: 0.0210 - accuracy: 0.9934\n",
            "Epoch 8/10\n",
            "938/938 [==============================] - 6s 7ms/step - loss: 0.0186 - accuracy: 0.9938\n",
            "Epoch 9/10\n",
            "938/938 [==============================] - 7s 7ms/step - loss: 0.0134 - accuracy: 0.9959\n",
            "Epoch 10/10\n",
            "938/938 [==============================] - 7s 7ms/step - loss: 0.0109 - accuracy: 0.9967\n"
          ],
          "name": "stdout"
        },
        {
          "output_type": "execute_result",
          "data": {
            "text/plain": [
              "<tensorflow.python.keras.callbacks.History at 0x7fde6c7ed910>"
            ]
          },
          "metadata": {
            "tags": []
          },
          "execution_count": 97
        }
      ]
    },
    {
      "cell_type": "code",
      "metadata": {
        "colab": {
          "base_uri": "https://localhost:8080/"
        },
        "id": "jt3rqCFstCOt",
        "outputId": "6ed2319a-0064-4d15-9877-e38571ff1b06"
      },
      "source": [
        "eval = model.evaluate(x_test, to_categorical(y_test))\r\n",
        "eval"
      ],
      "execution_count": 98,
      "outputs": [
        {
          "output_type": "stream",
          "text": [
            "313/313 [==============================] - 1s 2ms/step - loss: 0.0899 - accuracy: 0.9828\n"
          ],
          "name": "stdout"
        },
        {
          "output_type": "execute_result",
          "data": {
            "text/plain": [
              "[0.08991184085607529, 0.9828000068664551]"
            ]
          },
          "metadata": {
            "tags": []
          },
          "execution_count": 98
        }
      ]
    },
    {
      "cell_type": "code",
      "metadata": {
        "id": "1uDp0bnxtG9Z"
      },
      "source": [
        "predictions = model.predict(x_test)"
      ],
      "execution_count": 99,
      "outputs": []
    },
    {
      "cell_type": "markdown",
      "metadata": {
        "id": "pT4x__cR68DJ"
      },
      "source": [
        "Accuracy"
      ]
    },
    {
      "cell_type": "code",
      "metadata": {
        "colab": {
          "base_uri": "https://localhost:8080/"
        },
        "id": "0Lo0SsFhtyd6",
        "outputId": "874dd191-ef89-4efc-b110-45df81bb6a94"
      },
      "source": [
        "np.mean(np.argmax(predictions, axis=1) == y_test)"
      ],
      "execution_count": 100,
      "outputs": [
        {
          "output_type": "execute_result",
          "data": {
            "text/plain": [
              "0.9828"
            ]
          },
          "metadata": {
            "tags": []
          },
          "execution_count": 100
        }
      ]
    },
    {
      "cell_type": "code",
      "metadata": {
        "id": "kK6e8g7BwcXF"
      },
      "source": [
        "wrong_predictions = np.argmax(predictions, axis=1) == y_test"
      ],
      "execution_count": 101,
      "outputs": []
    },
    {
      "cell_type": "markdown",
      "metadata": {
        "id": "9O5idul-7NAT"
      },
      "source": [
        "Number of wrong predictions"
      ]
    },
    {
      "cell_type": "code",
      "metadata": {
        "colab": {
          "base_uri": "https://localhost:8080/"
        },
        "id": "L6H_bikUyyyN",
        "outputId": "8dbad631-3fbe-4b60-ee21-6d5fb2908768"
      },
      "source": [
        "np.size(wrong_predictions) - np.count_nonzero(wrong_predictions)"
      ],
      "execution_count": 102,
      "outputs": [
        {
          "output_type": "execute_result",
          "data": {
            "text/plain": [
              "172"
            ]
          },
          "metadata": {
            "tags": []
          },
          "execution_count": 102
        }
      ]
    },
    {
      "cell_type": "code",
      "metadata": {
        "id": "3vOSZYkW7Njp"
      },
      "source": [
        ""
      ],
      "execution_count": 102,
      "outputs": []
    },
    {
      "cell_type": "code",
      "metadata": {
        "id": "eLjzVgr2zCD0"
      },
      "source": [
        ""
      ],
      "execution_count": 102,
      "outputs": []
    }
  ]
}